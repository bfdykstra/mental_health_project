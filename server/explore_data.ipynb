{
 "cells": [
  {
   "cell_type": "code",
   "execution_count": 2,
   "metadata": {},
   "outputs": [
    {
     "name": "stdout",
     "output_type": "stream",
     "text": [
      "Collecting pandas\n",
      "  Downloading pandas-2.2.3-cp310-cp310-macosx_11_0_arm64.whl.metadata (89 kB)\n",
      "Collecting numpy>=1.22.4 (from pandas)\n",
      "  Downloading numpy-2.2.6-cp310-cp310-macosx_14_0_arm64.whl.metadata (62 kB)\n",
      "Requirement already satisfied: python-dateutil>=2.8.2 in ./.venv/lib/python3.10/site-packages (from pandas) (2.9.0.post0)\n",
      "Collecting pytz>=2020.1 (from pandas)\n",
      "  Downloading pytz-2025.2-py2.py3-none-any.whl.metadata (22 kB)\n",
      "Collecting tzdata>=2022.7 (from pandas)\n",
      "  Downloading tzdata-2025.2-py2.py3-none-any.whl.metadata (1.4 kB)\n",
      "Requirement already satisfied: six>=1.5 in ./.venv/lib/python3.10/site-packages (from python-dateutil>=2.8.2->pandas) (1.17.0)\n",
      "Downloading pandas-2.2.3-cp310-cp310-macosx_11_0_arm64.whl (11.3 MB)\n",
      "\u001b[2K   \u001b[90m━━━━━━━━━━━━━━━━━━━━━━━━━━━━━━━━━━━━━━━━\u001b[0m \u001b[32m11.3/11.3 MB\u001b[0m \u001b[31m51.1 MB/s\u001b[0m eta \u001b[36m0:00:00\u001b[0ma \u001b[36m0:00:01\u001b[0m\n",
      "\u001b[?25hDownloading numpy-2.2.6-cp310-cp310-macosx_14_0_arm64.whl (5.3 MB)\n",
      "\u001b[2K   \u001b[90m━━━━━━━━━━━━━━━━━━━━━━━━━━━━━━━━━━━━━━━━\u001b[0m \u001b[32m5.3/5.3 MB\u001b[0m \u001b[31m49.8 MB/s\u001b[0m eta \u001b[36m0:00:00\u001b[0m\n",
      "\u001b[?25hDownloading pytz-2025.2-py2.py3-none-any.whl (509 kB)\n",
      "Downloading tzdata-2025.2-py2.py3-none-any.whl (347 kB)\n",
      "Installing collected packages: pytz, tzdata, numpy, pandas\n",
      "\u001b[2K   \u001b[90m━━━━━━━━━━━━━━━━━━━━━━━━━━━━━━━━━━━━━━━━\u001b[0m \u001b[32m4/4\u001b[0m [pandas]2m3/4\u001b[0m [pandas]\n",
      "\u001b[1A\u001b[2KSuccessfully installed numpy-2.2.6 pandas-2.2.3 pytz-2025.2 tzdata-2025.2\n",
      "Note: you may need to restart the kernel to use updated packages.\n"
     ]
    }
   ],
   "source": [
    "%pip install pandas"
   ]
  },
  {
   "cell_type": "code",
   "execution_count": 4,
   "metadata": {},
   "outputs": [],
   "source": [
    "import pandas as pd"
   ]
  },
  {
   "cell_type": "code",
   "execution_count": 5,
   "metadata": {},
   "outputs": [],
   "source": [
    "pair_df = pd.read_csv('data/pair_data.csv')"
   ]
  },
  {
   "cell_type": "code",
   "execution_count": 12,
   "metadata": {},
   "outputs": [
    {
     "data": {
      "text/plain": [
       "(318, 11)"
      ]
     },
     "execution_count": 12,
     "metadata": {},
     "output_type": "execute_result"
    }
   ],
   "source": [
    "pair_df.shape"
   ]
  },
  {
   "cell_type": "code",
   "execution_count": 6,
   "metadata": {},
   "outputs": [
    {
     "data": {
      "text/html": [
       "<div>\n",
       "<style scoped>\n",
       "    .dataframe tbody tr th:only-of-type {\n",
       "        vertical-align: middle;\n",
       "    }\n",
       "\n",
       "    .dataframe tbody tr th {\n",
       "        vertical-align: top;\n",
       "    }\n",
       "\n",
       "    .dataframe thead th {\n",
       "        text-align: right;\n",
       "    }\n",
       "</style>\n",
       "<table border=\"1\" class=\"dataframe\">\n",
       "  <thead>\n",
       "    <tr style=\"text-align: right;\">\n",
       "      <th></th>\n",
       "      <th>prompt</th>\n",
       "      <th>hq1</th>\n",
       "      <th>hq2</th>\n",
       "      <th>mq1</th>\n",
       "      <th>lq1</th>\n",
       "      <th>lq2</th>\n",
       "      <th>lq3</th>\n",
       "      <th>lq4</th>\n",
       "      <th>lq5</th>\n",
       "    </tr>\n",
       "  </thead>\n",
       "  <tbody>\n",
       "    <tr>\n",
       "      <th>0</th>\n",
       "      <td>I know I am too big, and I probably should exe...</td>\n",
       "      <td>You are starting to think it’s time to do some...</td>\n",
       "      <td>You have put a lot of effort into losing weigh...</td>\n",
       "      <td>You don't know how you'd fit exercise into you...</td>\n",
       "      <td>It's free to exercise at home. Maybe ride your...</td>\n",
       "      <td>Do you have a cheap gym near you, like a Plane...</td>\n",
       "      <td>You always have time for something, and about ...</td>\n",
       "      <td>Your feelings are valid, but I would advise th...</td>\n",
       "      <td>Start with small steps, start exercising at ho...</td>\n",
       "    </tr>\n",
       "    <tr>\n",
       "      <th>1</th>\n",
       "      <td>I don’t trust doctors.  I don’t trust the CDC....</td>\n",
       "      <td>You feel that your immune systems is strong en...</td>\n",
       "      <td>Putting your trust in others is hard for you. ...</td>\n",
       "      <td>You believe God will protect you from COVID-19.</td>\n",
       "      <td>Well, we don’t know who is naturally able to a...</td>\n",
       "      <td>Do you think everyone in healthcare is in it f...</td>\n",
       "      <td>Otherwise, the fight against COVID is hard, so...</td>\n",
       "      <td>Well, taking covid vaccine can help you in dev...</td>\n",
       "      <td>How does your opinion affect the people around...</td>\n",
       "    </tr>\n",
       "    <tr>\n",
       "      <th>2</th>\n",
       "      <td>Doctor x, I don’t want the Covid vaccine for m...</td>\n",
       "      <td>You are worried about long term effects from t...</td>\n",
       "      <td>You're concerned that not enough research has ...</td>\n",
       "      <td>You want more information before choosing to v...</td>\n",
       "      <td>Let me tell you about what we know about how s...</td>\n",
       "      <td>Don't you know the long-term side effects of g...</td>\n",
       "      <td>If indicated, trust that it is safe.</td>\n",
       "      <td>I can absolutely respect that decision. Is the...</td>\n",
       "      <td>The Covid vaccine is very safe and only very f...</td>\n",
       "    </tr>\n",
       "    <tr>\n",
       "      <th>3</th>\n",
       "      <td>I know I should probably get the vaccine. I ha...</td>\n",
       "      <td>While you have some concerns about the vaccine...</td>\n",
       "      <td>You want to protect your mom, but you're worri...</td>\n",
       "      <td>You don't want to give your mom COVID.</td>\n",
       "      <td>You need to protect your mother and get over y...</td>\n",
       "      <td>Do you believe the side effects of the vaccine...</td>\n",
       "      <td>Follow what experts say, not what you hear fro...</td>\n",
       "      <td>I know it can sound intimidating but consider ...</td>\n",
       "      <td>Stop listening to bad advice and get the facts...</td>\n",
       "    </tr>\n",
       "    <tr>\n",
       "      <th>4</th>\n",
       "      <td>I know because I am so heavy and have diabetes...</td>\n",
       "      <td>Although part of you knows exercise might help...</td>\n",
       "      <td>because of your crazy schedule with the kids a...</td>\n",
       "      <td>You don't see a way to make exercise fit in yo...</td>\n",
       "      <td>Well, you can exercise at home. Maybe ride you...</td>\n",
       "      <td>Can you play basketball with your husband?</td>\n",
       "      <td>Concile your husband to help you with your hom...</td>\n",
       "      <td>The good news is that diet, not exercise, is t...</td>\n",
       "      <td>Have you tried looking for ways to incorporate...</td>\n",
       "    </tr>\n",
       "  </tbody>\n",
       "</table>\n",
       "</div>"
      ],
      "text/plain": [
       "                                              prompt  \\\n",
       "0  I know I am too big, and I probably should exe...   \n",
       "1  I don’t trust doctors.  I don’t trust the CDC....   \n",
       "2  Doctor x, I don’t want the Covid vaccine for m...   \n",
       "3  I know I should probably get the vaccine. I ha...   \n",
       "4  I know because I am so heavy and have diabetes...   \n",
       "\n",
       "                                                 hq1  \\\n",
       "0  You are starting to think it’s time to do some...   \n",
       "1  You feel that your immune systems is strong en...   \n",
       "2  You are worried about long term effects from t...   \n",
       "3  While you have some concerns about the vaccine...   \n",
       "4  Although part of you knows exercise might help...   \n",
       "\n",
       "                                                 hq2  \\\n",
       "0  You have put a lot of effort into losing weigh...   \n",
       "1  Putting your trust in others is hard for you. ...   \n",
       "2  You're concerned that not enough research has ...   \n",
       "3  You want to protect your mom, but you're worri...   \n",
       "4  because of your crazy schedule with the kids a...   \n",
       "\n",
       "                                                 mq1  \\\n",
       "0  You don't know how you'd fit exercise into you...   \n",
       "1    You believe God will protect you from COVID-19.   \n",
       "2  You want more information before choosing to v...   \n",
       "3             You don't want to give your mom COVID.   \n",
       "4  You don't see a way to make exercise fit in yo...   \n",
       "\n",
       "                                                 lq1  \\\n",
       "0  It's free to exercise at home. Maybe ride your...   \n",
       "1  Well, we don’t know who is naturally able to a...   \n",
       "2  Let me tell you about what we know about how s...   \n",
       "3  You need to protect your mother and get over y...   \n",
       "4  Well, you can exercise at home. Maybe ride you...   \n",
       "\n",
       "                                                 lq2  \\\n",
       "0  Do you have a cheap gym near you, like a Plane...   \n",
       "1  Do you think everyone in healthcare is in it f...   \n",
       "2  Don't you know the long-term side effects of g...   \n",
       "3  Do you believe the side effects of the vaccine...   \n",
       "4         Can you play basketball with your husband?   \n",
       "\n",
       "                                                 lq3  \\\n",
       "0  You always have time for something, and about ...   \n",
       "1  Otherwise, the fight against COVID is hard, so...   \n",
       "2               If indicated, trust that it is safe.   \n",
       "3  Follow what experts say, not what you hear fro...   \n",
       "4  Concile your husband to help you with your hom...   \n",
       "\n",
       "                                                 lq4  \\\n",
       "0  Your feelings are valid, but I would advise th...   \n",
       "1  Well, taking covid vaccine can help you in dev...   \n",
       "2  I can absolutely respect that decision. Is the...   \n",
       "3  I know it can sound intimidating but consider ...   \n",
       "4  The good news is that diet, not exercise, is t...   \n",
       "\n",
       "                                                 lq5  \n",
       "0  Start with small steps, start exercising at ho...  \n",
       "1  How does your opinion affect the people around...  \n",
       "2  The Covid vaccine is very safe and only very f...  \n",
       "3  Stop listening to bad advice and get the facts...  \n",
       "4  Have you tried looking for ways to incorporate...  "
      ]
     },
     "execution_count": 6,
     "metadata": {},
     "output_type": "execute_result"
    }
   ],
   "source": [
    "pair_df.head()"
   ]
  },
  {
   "cell_type": "code",
   "execution_count": 7,
   "metadata": {},
   "outputs": [
    {
     "data": {
      "text/plain": [
       "count    318.000000\n",
       "mean     179.855346\n",
       "std      101.874162\n",
       "min       36.000000\n",
       "25%      111.250000\n",
       "50%      155.500000\n",
       "75%      228.500000\n",
       "max      796.000000\n",
       "Name: prompt, dtype: float64"
      ]
     },
     "execution_count": 7,
     "metadata": {},
     "output_type": "execute_result"
    }
   ],
   "source": [
    "pair_df['prompt'].apply(len).describe()"
   ]
  },
  {
   "cell_type": "code",
   "execution_count": 10,
   "metadata": {},
   "outputs": [],
   "source": [
    "pair_df['prompt_len'] = pair_df['prompt'].apply(len)"
   ]
  },
  {
   "cell_type": "code",
   "execution_count": 11,
   "metadata": {},
   "outputs": [
    {
     "data": {
      "text/html": [
       "<div>\n",
       "<style scoped>\n",
       "    .dataframe tbody tr th:only-of-type {\n",
       "        vertical-align: middle;\n",
       "    }\n",
       "\n",
       "    .dataframe tbody tr th {\n",
       "        vertical-align: top;\n",
       "    }\n",
       "\n",
       "    .dataframe thead th {\n",
       "        text-align: right;\n",
       "    }\n",
       "</style>\n",
       "<table border=\"1\" class=\"dataframe\">\n",
       "  <thead>\n",
       "    <tr style=\"text-align: right;\">\n",
       "      <th></th>\n",
       "      <th>prompt</th>\n",
       "      <th>hq1</th>\n",
       "      <th>hq2</th>\n",
       "      <th>mq1</th>\n",
       "      <th>lq1</th>\n",
       "      <th>lq2</th>\n",
       "      <th>lq3</th>\n",
       "      <th>lq4</th>\n",
       "      <th>lq5</th>\n",
       "      <th>hq1_len</th>\n",
       "      <th>prompt_len</th>\n",
       "    </tr>\n",
       "  </thead>\n",
       "  <tbody>\n",
       "    <tr>\n",
       "      <th>290</th>\n",
       "      <td>I realize that I need to exercise, but it is n...</td>\n",
       "      <td>You've been thinking a lot about physical acti...</td>\n",
       "      <td>Going to the gym seems like a major hassle bet...</td>\n",
       "      <td>You have a lot of barriers that keep you from ...</td>\n",
       "      <td>You won't feel better until you start exercise...</td>\n",
       "      <td>Do you think you'll look better in your work-o...</td>\n",
       "      <td>You don't have to exercise every day. Just do ...</td>\n",
       "      <td>Start by making time for yourself, don't make ...</td>\n",
       "      <td>Maybe you can start out slowly by walking or r...</td>\n",
       "      <td>205</td>\n",
       "      <td>796</td>\n",
       "    </tr>\n",
       "  </tbody>\n",
       "</table>\n",
       "</div>"
      ],
      "text/plain": [
       "                                                prompt  \\\n",
       "290  I realize that I need to exercise, but it is n...   \n",
       "\n",
       "                                                   hq1  \\\n",
       "290  You've been thinking a lot about physical acti...   \n",
       "\n",
       "                                                   hq2  \\\n",
       "290  Going to the gym seems like a major hassle bet...   \n",
       "\n",
       "                                                   mq1  \\\n",
       "290  You have a lot of barriers that keep you from ...   \n",
       "\n",
       "                                                   lq1  \\\n",
       "290  You won't feel better until you start exercise...   \n",
       "\n",
       "                                                   lq2  \\\n",
       "290  Do you think you'll look better in your work-o...   \n",
       "\n",
       "                                                   lq3  \\\n",
       "290  You don't have to exercise every day. Just do ...   \n",
       "\n",
       "                                                   lq4  \\\n",
       "290  Start by making time for yourself, don't make ...   \n",
       "\n",
       "                                                   lq5  hq1_len  prompt_len  \n",
       "290  Maybe you can start out slowly by walking or r...      205         796  "
      ]
     },
     "execution_count": 11,
     "metadata": {},
     "output_type": "execute_result"
    }
   ],
   "source": [
    "pair_df[pair_df['prompt_len'] == 796]"
   ]
  },
  {
   "cell_type": "code",
   "execution_count": 8,
   "metadata": {},
   "outputs": [
    {
     "data": {
      "text/plain": [
       "count    318.000000\n",
       "mean     134.220126\n",
       "std       53.220646\n",
       "min       35.000000\n",
       "25%       95.000000\n",
       "50%      126.000000\n",
       "75%      167.500000\n",
       "max      342.000000\n",
       "Name: hq1, dtype: float64"
      ]
     },
     "execution_count": 8,
     "metadata": {},
     "output_type": "execute_result"
    }
   ],
   "source": [
    "pair_df['hq1'].apply(len).describe()"
   ]
  },
  {
   "cell_type": "code",
   "execution_count": 9,
   "metadata": {},
   "outputs": [
    {
     "data": {
      "text/html": [
       "<div>\n",
       "<style scoped>\n",
       "    .dataframe tbody tr th:only-of-type {\n",
       "        vertical-align: middle;\n",
       "    }\n",
       "\n",
       "    .dataframe tbody tr th {\n",
       "        vertical-align: top;\n",
       "    }\n",
       "\n",
       "    .dataframe thead th {\n",
       "        text-align: right;\n",
       "    }\n",
       "</style>\n",
       "<table border=\"1\" class=\"dataframe\">\n",
       "  <thead>\n",
       "    <tr style=\"text-align: right;\">\n",
       "      <th></th>\n",
       "      <th>prompt</th>\n",
       "      <th>hq1</th>\n",
       "      <th>hq2</th>\n",
       "      <th>mq1</th>\n",
       "      <th>lq1</th>\n",
       "      <th>lq2</th>\n",
       "      <th>lq3</th>\n",
       "      <th>lq4</th>\n",
       "      <th>lq5</th>\n",
       "      <th>hq1_len</th>\n",
       "    </tr>\n",
       "  </thead>\n",
       "  <tbody>\n",
       "    <tr>\n",
       "      <th>0</th>\n",
       "      <td>I know I am too big, and I probably should exe...</td>\n",
       "      <td>You are starting to think it’s time to do some...</td>\n",
       "      <td>You have put a lot of effort into losing weigh...</td>\n",
       "      <td>You don't know how you'd fit exercise into you...</td>\n",
       "      <td>It's free to exercise at home. Maybe ride your...</td>\n",
       "      <td>Do you have a cheap gym near you, like a Plane...</td>\n",
       "      <td>You always have time for something, and about ...</td>\n",
       "      <td>Your feelings are valid, but I would advise th...</td>\n",
       "      <td>Start with small steps, start exercising at ho...</td>\n",
       "      <td>342</td>\n",
       "    </tr>\n",
       "  </tbody>\n",
       "</table>\n",
       "</div>"
      ],
      "text/plain": [
       "                                              prompt  \\\n",
       "0  I know I am too big, and I probably should exe...   \n",
       "\n",
       "                                                 hq1  \\\n",
       "0  You are starting to think it’s time to do some...   \n",
       "\n",
       "                                                 hq2  \\\n",
       "0  You have put a lot of effort into losing weigh...   \n",
       "\n",
       "                                                 mq1  \\\n",
       "0  You don't know how you'd fit exercise into you...   \n",
       "\n",
       "                                                 lq1  \\\n",
       "0  It's free to exercise at home. Maybe ride your...   \n",
       "\n",
       "                                                 lq2  \\\n",
       "0  Do you have a cheap gym near you, like a Plane...   \n",
       "\n",
       "                                                 lq3  \\\n",
       "0  You always have time for something, and about ...   \n",
       "\n",
       "                                                 lq4  \\\n",
       "0  Your feelings are valid, but I would advise th...   \n",
       "\n",
       "                                                 lq5  hq1_len  \n",
       "0  Start with small steps, start exercising at ho...      342  "
      ]
     },
     "execution_count": 9,
     "metadata": {},
     "output_type": "execute_result"
    }
   ],
   "source": [
    "pair_df['hq1_len'] = pair_df['hq1'].apply(len)\n",
    "\n",
    "pair_df[pair_df['hq1_len'] == 342]"
   ]
  },
  {
   "cell_type": "code",
   "execution_count": null,
   "metadata": {},
   "outputs": [],
   "source": []
  }
 ],
 "metadata": {
  "kernelspec": {
   "display_name": ".venv",
   "language": "python",
   "name": "python3"
  },
  "language_info": {
   "codemirror_mode": {
    "name": "ipython",
    "version": 3
   },
   "file_extension": ".py",
   "mimetype": "text/x-python",
   "name": "python",
   "nbconvert_exporter": "python",
   "pygments_lexer": "ipython3",
   "version": "3.10.14"
  }
 },
 "nbformat": 4,
 "nbformat_minor": 2
}
